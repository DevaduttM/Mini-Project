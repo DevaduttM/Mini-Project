{
 "cells": [
  {
   "cell_type": "code",
   "execution_count": 6,
   "id": "a019b859-9ebe-485f-bbaa-41a7c0799861",
   "metadata": {},
   "outputs": [],
   "source": [
    "#Modules\n",
    "import numpy as np\n",
    "import seaborn as sns\n",
    "import pandas as pd\n",
    "import matplotlib.pyplot as plt\n",
    "import os\n",
    "import librosa\n",
    "import librosa.display\n",
    "from IPython.display import Audio\n",
    "import warnings\n",
    "warnings.filterwarnings(\"ignore\")"
   ]
  },
  {
   "cell_type": "code",
   "execution_count": 7,
   "id": "23969041-2591-4ce0-8f23-fcdf6db41c78",
   "metadata": {},
   "outputs": [
    {
     "data": {
      "text/html": [
       "<div>\n",
       "<style scoped>\n",
       "    .dataframe tbody tr th:only-of-type {\n",
       "        vertical-align: middle;\n",
       "    }\n",
       "\n",
       "    .dataframe tbody tr th {\n",
       "        vertical-align: top;\n",
       "    }\n",
       "\n",
       "    .dataframe thead th {\n",
       "        text-align: right;\n",
       "    }\n",
       "</style>\n",
       "<table border=\"1\" class=\"dataframe\">\n",
       "  <thead>\n",
       "    <tr style=\"text-align: right;\">\n",
       "      <th></th>\n",
       "      <th>speech</th>\n",
       "      <th>label</th>\n",
       "      <th>mfcc</th>\n",
       "    </tr>\n",
       "  </thead>\n",
       "  <tbody>\n",
       "    <tr>\n",
       "      <th>0</th>\n",
       "      <td>../../dataset/archive/TESS Toronto emotional s...</td>\n",
       "      <td>angry</td>\n",
       "      <td>[-390.03134, 55.23597, -15.03465, -10.704582, ...</td>\n",
       "    </tr>\n",
       "    <tr>\n",
       "      <th>1</th>\n",
       "      <td>../../dataset/archive/TESS Toronto emotional s...</td>\n",
       "      <td>angry</td>\n",
       "      <td>[-451.01947, 67.04883, -0.44825765, -16.81213,...</td>\n",
       "    </tr>\n",
       "    <tr>\n",
       "      <th>2</th>\n",
       "      <td>../../dataset/archive/TESS Toronto emotional s...</td>\n",
       "      <td>angry</td>\n",
       "      <td>[-406.56332, 28.609005, -5.3172164, 2.124631, ...</td>\n",
       "    </tr>\n",
       "    <tr>\n",
       "      <th>3</th>\n",
       "      <td>../../dataset/archive/TESS Toronto emotional s...</td>\n",
       "      <td>angry</td>\n",
       "      <td>[-386.34003, 53.439655, -8.663545, -13.309978,...</td>\n",
       "    </tr>\n",
       "    <tr>\n",
       "      <th>4</th>\n",
       "      <td>../../dataset/archive/TESS Toronto emotional s...</td>\n",
       "      <td>angry</td>\n",
       "      <td>[-404.78488, 54.462566, 3.3552904, 10.96758, 2...</td>\n",
       "    </tr>\n",
       "  </tbody>\n",
       "</table>\n",
       "</div>"
      ],
      "text/plain": [
       "                                              speech  label  \\\n",
       "0  ../../dataset/archive/TESS Toronto emotional s...  angry   \n",
       "1  ../../dataset/archive/TESS Toronto emotional s...  angry   \n",
       "2  ../../dataset/archive/TESS Toronto emotional s...  angry   \n",
       "3  ../../dataset/archive/TESS Toronto emotional s...  angry   \n",
       "4  ../../dataset/archive/TESS Toronto emotional s...  angry   \n",
       "\n",
       "                                                mfcc  \n",
       "0  [-390.03134, 55.23597, -15.03465, -10.704582, ...  \n",
       "1  [-451.01947, 67.04883, -0.44825765, -16.81213,...  \n",
       "2  [-406.56332, 28.609005, -5.3172164, 2.124631, ...  \n",
       "3  [-386.34003, 53.439655, -8.663545, -13.309978,...  \n",
       "4  [-404.78488, 54.462566, 3.3552904, 10.96758, 2...  "
      ]
     },
     "execution_count": 7,
     "metadata": {},
     "output_type": "execute_result"
    }
   ],
   "source": [
    "paths = []\n",
    "labels = []\n",
    "mfccs = []\n",
    "import numpy as np\n",
    "import scipy.fftpack\n",
    "\n",
    "np.fft.dct = scipy.fftpack.dct  # Redirecting librosa's incorrect call\n",
    "\n",
    "\n",
    "for dirname, _, filenames in os.walk('../../dataset/archive/TESS Toronto emotional speech set data'):\n",
    "    for filename in filenames:\n",
    "        paths.append(os.path.join(dirname,filename))\n",
    "        label = filename.split('_')[-1]\n",
    "        label = label.split('.')[0]\n",
    "        labels.append(label.lower())\n",
    "        y , sr = librosa.load(os.path.join(dirname,filename), sr=None)\n",
    "        mfcc = librosa.feature.mfcc(y=y ,sr=sr ,n_mfcc=13)\n",
    "        mfcc_mean = np.mean(mfcc,axis=1)\n",
    "        mfccs.append(mfcc_mean)\n",
    "      \n",
    "df = pd.DataFrame()\n",
    "df['speech'] = paths\n",
    "df['label'] = labels\n",
    "df['mfcc'] = mfccs\n",
    "\n",
    "df.head()"
   ]
  },
  {
   "cell_type": "code",
   "execution_count": 8,
   "id": "5f6fc0c3-ca93-45b6-86ae-e08edb7589cc",
   "metadata": {},
   "outputs": [],
   "source": [
    "summary_data = []\n",
    "\n",
    "for file_path in df[\"speech\"][:30]: \n",
    "    y, sr = librosa.load(file_path, sr=None)\n",
    "    file_name = file_path.split(\"/\")[-1]\n",
    "\n",
    "    mean_amp = y.mean()\n",
    "    max_amp = y.max()\n",
    "\n",
    "    summary_data.append([file_name, mean_amp, max_amp])\n",
    "df_summary = pd.DataFrame(summary_data, columns=[\"file\", \"mean_amplitude\", \"max_amplitude\"])\n"
   ]
  },
  {
   "cell_type": "code",
   "execution_count": 9,
   "id": "951c1ea6-b922-48e4-8e95-8d245f024592",
   "metadata": {},
   "outputs": [
    {
     "name": "stdout",
     "output_type": "stream",
     "text": [
      "Reconstruction Error (1 component): 0.62042\n",
      "Reconstruction Error (2 components): 0.45137\n"
     ]
    }
   ],
   "source": [
    "from sklearn.decomposition import PCA\n",
    "from sklearn.preprocessing import StandardScaler\n",
    "\n",
    "X_mfcc = np.array(df['mfcc'].tolist())  \n",
    "scaler = StandardScaler()\n",
    "X_scaled = scaler.fit_transform(X_mfcc)\n",
    "\n",
    "def compute_reconstruction_error(X, n_components):\n",
    "    pca = PCA(n_components=n_components)\n",
    "    X_pca = pca.fit_transform(X)\n",
    "    X_reconstructed = pca.inverse_transform(X_pca) \n",
    "\n",
    "    mse = np.mean((X - X_reconstructed) ** 2)\n",
    "    return mse\n",
    "\n",
    "mse_1 = compute_reconstruction_error(X_scaled, 1)  # Using 1 principal component\n",
    "mse_2 = compute_reconstruction_error(X_scaled, 2)  # Using 2 principal components\n",
    "\n",
    "print(f\"Reconstruction Error (1 component): {mse_1:.5f}\")\n",
    "print(f\"Reconstruction Error (2 components): {mse_2:.5f}\")\n"
   ]
  },
  {
   "cell_type": "code",
   "execution_count": 5,
   "id": "0cfb5700-8e07-48f4-81b1-c423bb03279f",
   "metadata": {},
   "outputs": [
    {
     "name": "stdout",
     "output_type": "stream",
     "text": [
      "                                              speech  label  \\\n",
      "0  ../../dataset/archive/TESS Toronto emotional s...  angry   \n",
      "1  ../../dataset/archive/TESS Toronto emotional s...  angry   \n",
      "2  ../../dataset/archive/TESS Toronto emotional s...  angry   \n",
      "3  ../../dataset/archive/TESS Toronto emotional s...  angry   \n",
      "4  ../../dataset/archive/TESS Toronto emotional s...  angry   \n",
      "\n",
      "                                                mfcc     LDA_1     LDA_2  \n",
      "0  [-390.03134, 55.23597, -15.03465, -10.704582, ... -2.389107 -1.784898  \n",
      "1  [-451.01947, 67.04883, -0.44825765, -16.81213,... -1.117853 -1.932096  \n",
      "2  [-406.56332, 28.609005, -5.3172164, 2.124631, ... -2.732071 -0.397837  \n",
      "3  [-386.34003, 53.439655, -8.663545, -13.309978,... -2.699012 -1.753967  \n",
      "4  [-404.78488, 54.462566, 3.3552904, 10.96758, 2... -2.936682 -0.124494  \n"
     ]
    }
   ],
   "source": [
    "from sklearn.discriminant_analysis import LinearDiscriminantAnalysis\n",
    "\n",
    "from sklearn.preprocessing import LabelEncoder\n",
    "label_encoder = LabelEncoder()\n",
    "y_labels = label_encoder.fit_transform(df['label'])\n",
    "\n",
    "lda = LinearDiscriminantAnalysis(n_components=2)\n",
    "X_lda = lda.fit_transform(X_scaled, y_labels)\n",
    "\n",
    "df_lda = pd.DataFrame(X_lda, columns=[\"LDA_1\", \"LDA_2\"])\n",
    "df = pd.concat([df, df_lda], axis=1)\n",
    "\n",
    "print(df.head()) \n"
   ]
  },
  {
   "cell_type": "code",
   "execution_count": 6,
   "id": "8c966009-8702-44dd-b58a-7998b156a643",
   "metadata": {},
   "outputs": [],
   "source": [
    "from sklearn.model_selection import train_test_split\n",
    "from sklearn.naive_bayes import GaussianNB\n",
    "from sklearn.linear_model import LogisticRegression\n",
    "from sklearn.metrics import confusion_matrix, classification_report, roc_auc_score, roc_curve\n",
    "from sklearn.preprocessing import LabelEncoder\n",
    "\n",
    "X = np.vstack(df['mfcc'].values)\n",
    "y = np.array(df['label'])\n",
    "label_encoder = LabelEncoder()\n",
    "y_encoded = label_encoder.fit_transform(y)\n",
    "\n",
    "X_train, X_test, y_train, y_test = train_test_split(X, y_encoded, test_size=0.2, random_state=42, stratify=y_encoded)\n",
    "\n",
    "scaler = StandardScaler()\n",
    "X_train_scaled = scaler.fit_transform(X_train)\n",
    "X_test_scaled = scaler.transform(X_test)\n",
    "\n",
    "pca = PCA(n_components=10)\n",
    "X_train_pca = pca.fit_transform(X_train_scaled)\n",
    "X_test_pca = pca.transform(X_test_scaled)"
   ]
  },
  {
   "cell_type": "code",
   "execution_count": 10,
   "id": "745869e8-5dd4-48ed-bcc1-50b3ce3f1de9",
   "metadata": {},
   "outputs": [
    {
     "name": "stdout",
     "output_type": "stream",
     "text": [
      "Logistic Regression Report:\n",
      "               precision    recall  f1-score   support\n",
      "\n",
      "           0       0.81      0.80      0.80       160\n",
      "           1       0.81      0.82      0.82       160\n",
      "           2       0.84      0.88      0.86       160\n",
      "           3       0.78      0.74      0.76       160\n",
      "           4       0.76      0.76      0.76       160\n",
      "           5       0.69      0.67      0.68       160\n",
      "           6       0.81      0.82      0.81       160\n",
      "\n",
      "    accuracy                           0.78      1120\n",
      "   macro avg       0.78      0.78      0.78      1120\n",
      "weighted avg       0.78      0.78      0.78      1120\n",
      "\n"
     ]
    }
   ],
   "source": [
    "log_reg = LogisticRegression(max_iter=1000)\n",
    "log_reg.fit(X_train_pca, y_train)\n",
    "\n",
    "y_pred_log_reg = log_reg.predict(X_test_pca)\n",
    "\n",
    "conf_matrix_log_reg = confusion_matrix(y_test, y_pred_log_reg)\n",
    "\n",
    "print(\"Logistic Regression Report:\\n\", classification_report(y_test, y_pred_log_reg))"
   ]
  },
  {
   "cell_type": "code",
   "execution_count": 8,
   "id": "f4edb37b-d5cc-4f2a-8e19-be5df382fa2a",
   "metadata": {},
   "outputs": [
    {
     "data": {
      "text/plain": [
       "['logistic_regression_model.pkl']"
      ]
     },
     "execution_count": 8,
     "metadata": {},
     "output_type": "execute_result"
    }
   ],
   "source": [
    "import joblib\n",
    "\n",
    "# Save the trained models\n",
    "joblib.dump(log_reg, \"logistic_regression_model.pkl\")"
   ]
  },
  {
   "cell_type": "code",
   "execution_count": 18,
   "id": "79879e19-a9f6-462a-b7b8-5d03b3ba7623",
   "metadata": {},
   "outputs": [
    {
     "name": "stdout",
     "output_type": "stream",
     "text": [
      "Predicted Emotion: angry\n"
     ]
    }
   ],
   "source": [
    "import joblib\n",
    "log_reg = joblib.load(\"logistic_regression_model.pkl\")\n",
    "import librosa\n",
    "\n",
    "def predict_emotion(audio_path, model):\n",
    "    y, sr = librosa.load(audio_path, sr=None)\n",
    "    mfcc = librosa.feature.mfcc(y=y, sr=sr, n_mfcc=13)\n",
    "    mfcc_mean = np.mean(mfcc, axis=1).reshape(1, -1)\n",
    "\n",
    "    # Apply the same preprocessing\n",
    "    mfcc_scaled = scaler.transform(mfcc_mean)\n",
    "    mfcc_pca = pca.transform(mfcc_scaled)\n",
    "\n",
    "    # Predict using the chosen model\n",
    "    predicted_label = model.predict(mfcc_pca)\n",
    "    emotion = label_encoder.inverse_transform(predicted_label)[0]\n",
    "    \n",
    "    return emotion\n",
    "\n",
    "# Example usage\n",
    "audio_file = \"sample.wav\"\n",
    "predicted_emotion = predict_emotion(audio_file, log_reg)\n",
    "print(\"Predicted Emotion:\", predicted_emotion)"
   ]
  },
  {
   "cell_type": "code",
   "execution_count": 19,
   "id": "389ad018-7f13-4ae8-aca4-bc0acdb94cb1",
   "metadata": {},
   "outputs": [
    {
     "name": "stdout",
     "output_type": "stream",
     "text": [
      "All models and preprocessors saved successfully!\n"
     ]
    }
   ],
   "source": [
    "import joblib\n",
    "\n",
    "# Save the StandardScaler used for feature scaling\n",
    "joblib.dump(scaler, 'scaler.pkl')\n",
    "\n",
    "# Save the PCA model used for dimensionality reduction\n",
    "joblib.dump(pca, 'pca.pkl')\n",
    "\n",
    "# Save the LabelEncoder to convert encoded labels back to their original form\n",
    "joblib.dump(label_encoder, 'label_encoder.pkl')\n",
    "\n",
    "print(\"All models and preprocessors saved successfully!\")\n"
   ]
  }
 ],
 "metadata": {
  "kernelspec": {
   "display_name": "Python 3 (ipykernel)",
   "language": "python",
   "name": "python3"
  },
  "language_info": {
   "codemirror_mode": {
    "name": "ipython",
    "version": 3
   },
   "file_extension": ".py",
   "mimetype": "text/x-python",
   "name": "python",
   "nbconvert_exporter": "python",
   "pygments_lexer": "ipython3",
   "version": "3.10.11"
  }
 },
 "nbformat": 4,
 "nbformat_minor": 5
}
